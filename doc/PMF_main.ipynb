{
 "cells": [
  {
   "cell_type": "code",
   "execution_count": 1,
   "metadata": {},
   "outputs": [],
   "source": [
    "import pandas as pd\n",
    "import numpy as np\n",
    "from sklearn.model_selection import train_test_split\n",
    "from sklearn.metrics import mean_squared_error\n",
    "from math import sqrt\n",
    "import import_ipynb"
   ]
  },
  {
   "cell_type": "code",
   "execution_count": 2,
   "metadata": {},
   "outputs": [
    {
     "name": "stdout",
     "output_type": "stream",
     "text": [
      "importing Jupyter notebook from PMF_model.ipynb\n",
      "PMF(num_items=193609, num_users=610, reg_u=0.010000, reg_v=0.010000, latent_size=20, learning rate=0.000030, itertion number=1000)\n",
      "training model...\n"
     ]
    }
   ],
   "source": [
    "data = pd.read_csv('ratings.csv')\n",
    "\n",
    "# train_test_split\n",
    "train, test = train_test_split(data, test_size = 0.2, stratify = data['userId'])\n",
    "\n",
    "# Comment out the line below not to include validation set\n",
    "train, validation = train_test_split(train, test_size = 0.1, stratify = train['userId'])\n",
    "\n",
    "train_data = np.array(train.iloc[:,:-1])\n",
    "test_data = np.array(test.iloc[:,:-1])\n",
    "\n",
    "# Comment out the line below not to include validation set\n",
    "validation_data = np.array(validation.iloc[:,:-1])\n",
    "\n",
    "num_users = max(data['userId'].values)\n",
    "num_items = max(data['movieId'].values)\n",
    "\n",
    "# construct model\n",
    "import PMF_model\n",
    "\n",
    "lambda_u = 0.1\n",
    "lambda_v = 0.1\n",
    "latent_size = 20\n",
    "lr = 0.001\n",
    "num_iter = 2000\n",
    "stopping_deriv=0.0\n",
    "model = PMF_model.PMF(m = num_items, n = num_users, lambda_u=lambda_u, lambda_v=lambda_v, latent_size=latent_size, lr=lr, num_iter=num_iter, stopping_deriv=stopping_deriv, seed=1)\n",
    "print('PMF(num_items={:d}, num_users={:d}, reg_u={:f}, reg_v={:f}, latent_size={:d}, learning rate={:f}, itertion number={:d})'.format(num_items, num_users, lambda_u, lambda_v, latent_size, lr, num_iter))\n",
    "print('training model...')\n",
    "\n",
    "# Run one of the two lines below based on whether you want to include validation set or not\n",
    "U, V, train_rmse, validation_rmse = model.fit(train_data=train_data, validation_data=validation_data)\n",
    "# U, V, train_rmse = model.fit(train_data=train_data)\n",
    "\n",
    "print('train rmse:{:f}'.format(train_rmse))\n",
    "\n",
    "print('testing model...')\n",
    "preds = model.predict(data=test_data)\n",
    "test_rmse = sqrt(mean_squared_error(preds, test_data[:, 2]))\n",
    "\n",
    "print('test rmse:{:f}'.format(test_rmse))"
   ]
  },
  {
   "cell_type": "code",
   "execution_count": null,
   "metadata": {},
   "outputs": [],
   "source": [
    "from sklearn.kernel_ridge import KernelRidge\n",
    "#For user specific\n",
    "rating_preds = np.zeros((num_users,num_items))\n",
    "\n",
    "kernel = 'rbf'\n",
    "alpha = 0.05\n",
    "gamma = None\n",
    "\n",
    "test_mse = []\n",
    "train_mse = []\n",
    "\n",
    "for userId in range(1,num_users+1):\n",
    "    user_spec = train.loc[train['userId'] == userId]\n",
    "    user_spec_test = test.loc[test['userId'] == userId]\n",
    "    if (len(user_spec)!=0) and (len(user_spec_test)!=0):\n",
    "        X_train = V.T[user_spec['movieId']-1,:]\n",
    "        y_train = user_spec['rating']\n",
    "        X_test = V.T[user_spec_test['movieId']-1,:]\n",
    "        # list_movieId = user_spec_test['movieId']-1#############\n",
    "        \n",
    "        model_kr =  KernelRidge(kernel=kernel, alpha=alpha, gamma=gamma)\n",
    "        cls = model_kr.fit(X_train,y_train)\n",
    "        y_preds = cls.predict(X_test)\n",
    "        train_preds = cls.predict(X_train)\n",
    "\n",
    "        test_mse.append(mean_squared_error(user_spec_test['rating'], y_preds))\n",
    "        train_mse.append(mean_squared_error(user_spec['rating'], train_preds))\n",
    "        # rating_preds[userId-1,list_movieId.values] = y_preds"
   ]
  },
  {
   "cell_type": "code",
   "execution_count": null,
   "metadata": {},
   "outputs": [],
   "source": [
    "print(sqrt(np.array(test_mse).mean()))\n",
    "print(sqrt(np.array(train_mse).mean()))"
   ]
  }
 ],
 "metadata": {
  "kernelspec": {
   "display_name": "Python 3",
   "language": "python",
   "name": "python3"
  },
  "language_info": {
   "codemirror_mode": {
    "name": "ipython",
    "version": 3
   },
   "file_extension": ".py",
   "mimetype": "text/x-python",
   "name": "python",
   "nbconvert_exporter": "python",
   "pygments_lexer": "ipython3",
   "version": "3.7.3"
  }
 },
 "nbformat": 4,
 "nbformat_minor": 2
}
